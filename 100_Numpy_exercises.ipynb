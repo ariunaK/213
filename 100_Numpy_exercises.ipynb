{
 "cells": [
  {
   "cell_type": "code",
   "execution_count": 110,
   "id": "57ca1204",
   "metadata": {},
   "outputs": [],
   "source": [
    "NICKNAME = \"ariunaK\""
   ]
  },
  {
   "cell_type": "code",
   "execution_count": 2,
   "id": "5df6e36f",
   "metadata": {},
   "outputs": [],
   "source": [
    "#1\n",
    "import numpy as np"
   ]
  },
  {
   "cell_type": "code",
   "execution_count": 112,
   "id": "be048d93",
   "metadata": {},
   "outputs": [
    {
     "name": "stdout",
     "output_type": "stream",
     "text": [
      "1.21.5\n",
      "blas_mkl_info:\n",
      "    libraries = ['mkl_rt']\n",
      "    library_dirs = ['C:/Users/HP/anaconda3\\\\Library\\\\lib']\n",
      "    define_macros = [('SCIPY_MKL_H', None), ('HAVE_CBLAS', None)]\n",
      "    include_dirs = ['C:/Users/HP/anaconda3\\\\Library\\\\include']\n",
      "blas_opt_info:\n",
      "    libraries = ['mkl_rt']\n",
      "    library_dirs = ['C:/Users/HP/anaconda3\\\\Library\\\\lib']\n",
      "    define_macros = [('SCIPY_MKL_H', None), ('HAVE_CBLAS', None)]\n",
      "    include_dirs = ['C:/Users/HP/anaconda3\\\\Library\\\\include']\n",
      "lapack_mkl_info:\n",
      "    libraries = ['mkl_rt']\n",
      "    library_dirs = ['C:/Users/HP/anaconda3\\\\Library\\\\lib']\n",
      "    define_macros = [('SCIPY_MKL_H', None), ('HAVE_CBLAS', None)]\n",
      "    include_dirs = ['C:/Users/HP/anaconda3\\\\Library\\\\include']\n",
      "lapack_opt_info:\n",
      "    libraries = ['mkl_rt']\n",
      "    library_dirs = ['C:/Users/HP/anaconda3\\\\Library\\\\lib']\n",
      "    define_macros = [('SCIPY_MKL_H', None), ('HAVE_CBLAS', None)]\n",
      "    include_dirs = ['C:/Users/HP/anaconda3\\\\Library\\\\include']\n",
      "Supported SIMD extensions in this NumPy install:\n",
      "    baseline = SSE,SSE2,SSE3\n",
      "    found = SSSE3,SSE41,POPCNT,SSE42,AVX,F16C,FMA3,AVX2,AVX512F,AVX512CD,AVX512_SKX,AVX512_CLX,AVX512_CNL\n",
      "    not found = \n"
     ]
    }
   ],
   "source": [
    "#2\n",
    "print(np.__version__)\n",
    "np.show_config()"
   ]
  },
  {
   "cell_type": "code",
   "execution_count": 113,
   "id": "d46979fa",
   "metadata": {},
   "outputs": [
    {
     "data": {
      "text/plain": [
       "array([0., 0., 0., 0., 0., 0., 0., 0., 0., 0.])"
      ]
     },
     "execution_count": 113,
     "metadata": {},
     "output_type": "execute_result"
    }
   ],
   "source": [
    "#3\n",
    "x = np.zeros(10)\n",
    "x"
   ]
  },
  {
   "cell_type": "code",
   "execution_count": 114,
   "id": "ecb047f8",
   "metadata": {},
   "outputs": [
    {
     "name": "stdout",
     "output_type": "stream",
     "text": [
      "400 bytes\n"
     ]
    }
   ],
   "source": [
    "#4\n",
    "x = np.zeros((10,5))\n",
    "print(\"%d bytes\" % (x.size * x.itemsize))"
   ]
  },
  {
   "cell_type": "code",
   "execution_count": 115,
   "id": "2d8ff820",
   "metadata": {},
   "outputs": [
    {
     "name": "stdout",
     "output_type": "stream",
     "text": [
      "add(x1, x2, /, out=None, *, where=True, casting='same_kind', order='K', dtype=None, subok=True[, signature, extobj])\n",
      "\n",
      "Add arguments element-wise.\n",
      "\n",
      "Parameters\n",
      "----------\n",
      "x1, x2 : array_like\n",
      "    The arrays to be added.\n",
      "    If ``x1.shape != x2.shape``, they must be broadcastable to a common\n",
      "    shape (which becomes the shape of the output).\n",
      "out : ndarray, None, or tuple of ndarray and None, optional\n",
      "    A location into which the result is stored. If provided, it must have\n",
      "    a shape that the inputs broadcast to. If not provided or None,\n",
      "    a freshly-allocated array is returned. A tuple (possible only as a\n",
      "    keyword argument) must have length equal to the number of outputs.\n",
      "where : array_like, optional\n",
      "    This condition is broadcast over the input. At locations where the\n",
      "    condition is True, the `out` array will be set to the ufunc result.\n",
      "    Elsewhere, the `out` array will retain its original value.\n",
      "    Note that if an uninitialized `out` array is created via the default\n",
      "    ``out=None``, locations within it where the condition is False will\n",
      "    remain uninitialized.\n",
      "**kwargs\n",
      "    For other keyword-only arguments, see the\n",
      "    :ref:`ufunc docs <ufuncs.kwargs>`.\n",
      "\n",
      "Returns\n",
      "-------\n",
      "add : ndarray or scalar\n",
      "    The sum of `x1` and `x2`, element-wise.\n",
      "    This is a scalar if both `x1` and `x2` are scalars.\n",
      "\n",
      "Notes\n",
      "-----\n",
      "Equivalent to `x1` + `x2` in terms of array broadcasting.\n",
      "\n",
      "Examples\n",
      "--------\n",
      ">>> np.add(1.0, 4.0)\n",
      "5.0\n",
      ">>> x1 = np.arange(9.0).reshape((3, 3))\n",
      ">>> x2 = np.arange(3.0)\n",
      ">>> np.add(x1, x2)\n",
      "array([[  0.,   2.,   4.],\n",
      "       [  3.,   5.,   7.],\n",
      "       [  6.,   8.,  10.]])\n",
      "\n",
      "The ``+`` operator can be used as a shorthand for ``np.add`` on ndarrays.\n",
      "\n",
      ">>> x1 = np.arange(9.0).reshape((3, 3))\n",
      ">>> x2 = np.arange(3.0)\n",
      ">>> x1 + x2\n",
      "array([[ 0.,  2.,  4.],\n",
      "       [ 3.,  5.,  7.],\n",
      "       [ 6.,  8., 10.]])\n",
      "None\n"
     ]
    }
   ],
   "source": [
    "#5\n",
    "print(np.info(np.add))"
   ]
  },
  {
   "cell_type": "code",
   "execution_count": 116,
   "id": "11bbb60e",
   "metadata": {},
   "outputs": [
    {
     "data": {
      "text/plain": [
       "array([0., 0., 0., 0., 1., 0., 0., 0., 0., 0.])"
      ]
     },
     "execution_count": 116,
     "metadata": {},
     "output_type": "execute_result"
    }
   ],
   "source": [
    "#6\n",
    "x = np.zeros(10)\n",
    "x[4] = 1\n",
    "x"
   ]
  },
  {
   "cell_type": "code",
   "execution_count": 117,
   "id": "a3c89aed",
   "metadata": {},
   "outputs": [
    {
     "data": {
      "text/plain": [
       "array([10, 11, 12, 13, 14, 15, 16, 17, 18, 19, 20, 21, 22, 23, 24, 25, 26,\n",
       "       27, 28, 29, 30, 31, 32, 33, 34, 35, 36, 37, 38, 39, 40, 41, 42, 43,\n",
       "       44, 45, 46, 47, 48, 49])"
      ]
     },
     "execution_count": 117,
     "metadata": {},
     "output_type": "execute_result"
    }
   ],
   "source": [
    "#7\n",
    "x = np.arange(10,50)\n",
    "x"
   ]
  },
  {
   "cell_type": "code",
   "execution_count": 118,
   "id": "e4c18257",
   "metadata": {},
   "outputs": [
    {
     "data": {
      "text/plain": [
       "array([49, 48, 47, 46, 45, 44, 43, 42, 41, 40, 39, 38, 37, 36, 35, 34, 33,\n",
       "       32, 31, 30, 29, 28, 27, 26, 25, 24, 23, 22, 21, 20, 19, 18, 17, 16,\n",
       "       15, 14, 13, 12, 11, 10])"
      ]
     },
     "execution_count": 118,
     "metadata": {},
     "output_type": "execute_result"
    }
   ],
   "source": [
    "#8\n",
    "x = x[::-1]\n",
    "x"
   ]
  },
  {
   "cell_type": "code",
   "execution_count": 119,
   "id": "0f035f46",
   "metadata": {},
   "outputs": [
    {
     "data": {
      "text/plain": [
       "array([[0, 1, 2],\n",
       "       [3, 4, 5],\n",
       "       [6, 7, 8]])"
      ]
     },
     "execution_count": 119,
     "metadata": {},
     "output_type": "execute_result"
    }
   ],
   "source": [
    "#9\n",
    "A = np.arange(9).reshape(3, 3)\n",
    "A"
   ]
  },
  {
   "cell_type": "code",
   "execution_count": 120,
   "id": "df4ea969",
   "metadata": {},
   "outputs": [
    {
     "data": {
      "text/plain": [
       "(array([0, 1, 4], dtype=int64),)"
      ]
     },
     "execution_count": 120,
     "metadata": {},
     "output_type": "execute_result"
    }
   ],
   "source": [
    "#10\n",
    "p = np.nonzero([1, 2, 0 ,0 , 4, 0])\n",
    "p"
   ]
  },
  {
   "cell_type": "code",
   "execution_count": 121,
   "id": "96f2d7bc",
   "metadata": {},
   "outputs": [
    {
     "data": {
      "text/plain": [
       "array([[1., 0., 0.],\n",
       "       [0., 1., 0.],\n",
       "       [0., 0., 1.]])"
      ]
     },
     "execution_count": 121,
     "metadata": {},
     "output_type": "execute_result"
    }
   ],
   "source": [
    "#11\n",
    "I = np.eye(3)\n",
    "I"
   ]
  },
  {
   "cell_type": "code",
   "execution_count": 122,
   "id": "e86276a8",
   "metadata": {},
   "outputs": [
    {
     "data": {
      "text/plain": [
       "array([[[0.83275584, 0.78976641, 0.77450015],\n",
       "        [0.38864605, 0.90381741, 0.22089779],\n",
       "        [0.04216755, 0.37907782, 0.14614947]],\n",
       "\n",
       "       [[0.79579127, 0.47648052, 0.45134971],\n",
       "        [0.09981786, 0.55204211, 0.57835112],\n",
       "        [0.42418048, 0.11458849, 0.49640983]],\n",
       "\n",
       "       [[0.8691766 , 0.3417329 , 0.50515117],\n",
       "        [0.68328329, 0.76816864, 0.93893446],\n",
       "        [0.02332568, 0.19651161, 0.04886783]]])"
      ]
     },
     "execution_count": 122,
     "metadata": {},
     "output_type": "execute_result"
    }
   ],
   "source": [
    "#12\n",
    "B = np.random.random((3,3,3))\n",
    "B"
   ]
  },
  {
   "cell_type": "code",
   "execution_count": 123,
   "id": "a3f2f60c",
   "metadata": {},
   "outputs": [
    {
     "data": {
      "text/plain": [
       "(0.007578754325831105, 0.9892584592362386)"
      ]
     },
     "execution_count": 123,
     "metadata": {},
     "output_type": "execute_result"
    }
   ],
   "source": [
    "#13\n",
    "A = np.random.random((10,10))\n",
    "a1 = A.min()\n",
    "a2 = A.max()\n",
    "a1, a2"
   ]
  },
  {
   "cell_type": "code",
   "execution_count": 124,
   "id": "62150955",
   "metadata": {},
   "outputs": [
    {
     "data": {
      "text/plain": [
       "0.5133875729281314"
      ]
     },
     "execution_count": 124,
     "metadata": {},
     "output_type": "execute_result"
    }
   ],
   "source": [
    "#14\n",
    "x = np.random.random(30)\n",
    "y = x.mean()\n",
    "y"
   ]
  },
  {
   "cell_type": "code",
   "execution_count": 125,
   "id": "b999f664",
   "metadata": {},
   "outputs": [
    {
     "data": {
      "text/plain": [
       "array([[1., 1., 1., 1., 1.],\n",
       "       [1., 0., 0., 0., 1.],\n",
       "       [1., 0., 0., 0., 1.],\n",
       "       [1., 0., 0., 0., 1.],\n",
       "       [1., 1., 1., 1., 1.]])"
      ]
     },
     "execution_count": 125,
     "metadata": {},
     "output_type": "execute_result"
    }
   ],
   "source": [
    "#15\n",
    "x = np.ones((5,5))\n",
    "x[1:-1,1:-1] = 0\n",
    "x"
   ]
  },
  {
   "cell_type": "code",
   "execution_count": 126,
   "id": "79797b03",
   "metadata": {},
   "outputs": [
    {
     "data": {
      "text/plain": [
       "array([[0., 0., 0., 0., 0., 0., 0.],\n",
       "       [0., 1., 1., 1., 1., 1., 0.],\n",
       "       [0., 1., 1., 1., 1., 1., 0.],\n",
       "       [0., 1., 1., 1., 1., 1., 0.],\n",
       "       [0., 1., 1., 1., 1., 1., 0.],\n",
       "       [0., 1., 1., 1., 1., 1., 0.],\n",
       "       [0., 0., 0., 0., 0., 0., 0.]])"
      ]
     },
     "execution_count": 126,
     "metadata": {},
     "output_type": "execute_result"
    }
   ],
   "source": [
    "#16\n",
    "x = np.ones((5,5))\n",
    "x = np.pad(x, 1, constant_values=0)\n",
    "x"
   ]
  },
  {
   "cell_type": "code",
   "execution_count": 127,
   "id": "7231953d",
   "metadata": {},
   "outputs": [
    {
     "data": {
      "text/plain": [
       "False"
      ]
     },
     "execution_count": 127,
     "metadata": {},
     "output_type": "execute_result"
    }
   ],
   "source": [
    "#17\n",
    "0 * np.nan\n",
    "np.nan == np.nan\n",
    "np.inf > np.nan\n",
    "np.nan - np.nan\n",
    "np.nan in set([np.nan])\n",
    "0.3 == 3 * 0.1"
   ]
  },
  {
   "cell_type": "code",
   "execution_count": 128,
   "id": "5fa8044a",
   "metadata": {},
   "outputs": [
    {
     "data": {
      "text/plain": [
       "array([[0, 0, 0, 0, 0],\n",
       "       [1, 0, 0, 0, 0],\n",
       "       [0, 2, 0, 0, 0],\n",
       "       [0, 0, 3, 0, 0],\n",
       "       [0, 0, 0, 4, 0]])"
      ]
     },
     "execution_count": 128,
     "metadata": {},
     "output_type": "execute_result"
    }
   ],
   "source": [
    "#18\n",
    "A = np.diag(1 + np.arange(4), -1)\n",
    "A"
   ]
  },
  {
   "cell_type": "code",
   "execution_count": 129,
   "id": "5efa3390",
   "metadata": {},
   "outputs": [
    {
     "name": "stdout",
     "output_type": "stream",
     "text": [
      "[[0 1 0 1 0 1 0 1]\n",
      " [1 0 1 0 1 0 1 0]\n",
      " [0 1 0 1 0 1 0 1]\n",
      " [1 0 1 0 1 0 1 0]\n",
      " [0 1 0 1 0 1 0 1]\n",
      " [1 0 1 0 1 0 1 0]\n",
      " [0 1 0 1 0 1 0 1]\n",
      " [1 0 1 0 1 0 1 0]]\n"
     ]
    }
   ],
   "source": [
    "#19\n",
    "def checkerboard(w, b):\n",
    "\n",
    "    # YOUR CODE HERE\n",
    "    m = np.array(([w, b]*4 + [b, w]*4)*4).reshape((8,8))\n",
    "    return m\n",
    "\n",
    "p = checkerboard(0, 1)\n",
    "print(p)"
   ]
  },
  {
   "cell_type": "code",
   "execution_count": 130,
   "id": "c4c5f87b",
   "metadata": {},
   "outputs": [
    {
     "data": {
      "text/plain": [
       "(1, 5, 3)"
      ]
     },
     "execution_count": 130,
     "metadata": {},
     "output_type": "execute_result"
    }
   ],
   "source": [
    "#20\n",
    "np.unravel_index(99,(6,7,8))"
   ]
  },
  {
   "cell_type": "code",
   "execution_count": 131,
   "id": "f51d93a2",
   "metadata": {},
   "outputs": [
    {
     "data": {
      "text/plain": [
       "array([[0, 1, 0, 1, 0, 1, 0, 1],\n",
       "       [1, 0, 1, 0, 1, 0, 1, 0],\n",
       "       [0, 1, 0, 1, 0, 1, 0, 1],\n",
       "       [1, 0, 1, 0, 1, 0, 1, 0],\n",
       "       [0, 1, 0, 1, 0, 1, 0, 1],\n",
       "       [1, 0, 1, 0, 1, 0, 1, 0],\n",
       "       [0, 1, 0, 1, 0, 1, 0, 1],\n",
       "       [1, 0, 1, 0, 1, 0, 1, 0]])"
      ]
     },
     "execution_count": 131,
     "metadata": {},
     "output_type": "execute_result"
    }
   ],
   "source": [
    "#21\n",
    "np.tile(np.array([[0,1],[1,0]]), (4,4))"
   ]
  },
  {
   "cell_type": "code",
   "execution_count": 132,
   "id": "86f51965",
   "metadata": {},
   "outputs": [
    {
     "data": {
      "text/plain": [
       "array([[0.55549228, 0.47658118, 0.3023664 , 0.04607759, 0.56689887],\n",
       "       [0.42641446, 0.23311901, 0.60154825, 0.39109625, 0.35392842],\n",
       "       [0.3389316 , 0.00884284, 0.0267122 , 0.54559307, 0.60708841],\n",
       "       [0.17433427, 0.36073129, 0.5285422 , 0.39842862, 0.4307081 ],\n",
       "       [0.71430207, 0.22011643, 0.25295574, 0.97513201, 0.1815362 ]])"
      ]
     },
     "execution_count": 132,
     "metadata": {},
     "output_type": "execute_result"
    }
   ],
   "source": [
    "#22\n",
    "A = np.random.random((5, 5))\n",
    "norms = np.linalg.norm(A, axis=1)\n",
    "A1 = A / norms\n",
    "A1"
   ]
  },
  {
   "cell_type": "code",
   "execution_count": 133,
   "id": "69904ac2",
   "metadata": {},
   "outputs": [],
   "source": [
    "#23\n",
    "color = np.dtype([(\"r\", np.ubyte), (\"g\", np.ubyte), (\"b\", np.ubyte), (\"a\", np.ubyte)])"
   ]
  },
  {
   "cell_type": "code",
   "execution_count": 134,
   "id": "48aa5607",
   "metadata": {},
   "outputs": [
    {
     "data": {
      "text/plain": [
       "array([[0.4650354 , 0.14454014],\n",
       "       [0.68346805, 0.64767543],\n",
       "       [0.77239885, 0.70252975],\n",
       "       [0.75777149, 0.67012471],\n",
       "       [0.5715005 , 0.28211613]])"
      ]
     },
     "execution_count": 134,
     "metadata": {},
     "output_type": "execute_result"
    }
   ],
   "source": [
    "#24\n",
    "a = np.random.random((5, 3))\n",
    "b = np.random.random((3, 2))\n",
    "c = a @ b\n",
    "c"
   ]
  },
  {
   "cell_type": "code",
   "execution_count": 135,
   "id": "7ddd3e85",
   "metadata": {},
   "outputs": [
    {
     "data": {
      "text/plain": [
       "array([ 0.23647602,  0.40714158,  0.05765764,  0.85220804, -0.12731083,\n",
       "       -0.98447298, -0.43008799, -0.43866203,  0.94359443,  0.4050001 ,\n",
       "        0.2071515 ,  0.33313777,  0.78909887,  0.69181091,  0.13684822,\n",
       "        0.42271553,  0.217165  ,  0.64956498])"
      ]
     },
     "execution_count": 135,
     "metadata": {},
     "output_type": "execute_result"
    }
   ],
   "source": [
    "#25\n",
    "x = np.random.random(18)\n",
    "for i in range(4, 8):\n",
    "    x[i] *= -1\n",
    "x"
   ]
  },
  {
   "cell_type": "code",
   "execution_count": 136,
   "id": "1d26861e",
   "metadata": {},
   "outputs": [
    {
     "name": "stdout",
     "output_type": "stream",
     "text": [
      "10\n",
      "10\n"
     ]
    }
   ],
   "source": [
    "#26\n",
    "print(sum(range(5),-1))\n",
    "from numpy import *\n",
    "print(sum(range(5),-1))"
   ]
  },
  {
   "cell_type": "code",
   "execution_count": 137,
   "id": "2ab70a2d",
   "metadata": {},
   "outputs": [
    {
     "ename": "ValueError",
     "evalue": "The truth value of an array with more than one element is ambiguous. Use a.any() or a.all()",
     "output_type": "error",
     "traceback": [
      "\u001b[1;31m---------------------------------------------------------------------------\u001b[0m",
      "\u001b[1;31mValueError\u001b[0m                                Traceback (most recent call last)",
      "Input \u001b[1;32mIn [137]\u001b[0m, in \u001b[0;36m<cell line: 8>\u001b[1;34m()\u001b[0m\n\u001b[0;32m      6\u001b[0m \u001b[38;5;241m1\u001b[39mj\u001b[38;5;241m*\u001b[39mZ\n\u001b[0;32m      7\u001b[0m Z\u001b[38;5;241m/\u001b[39m\u001b[38;5;241m1\u001b[39m\u001b[38;5;241m/\u001b[39m\u001b[38;5;241m1\u001b[39m\n\u001b[1;32m----> 8\u001b[0m Z\u001b[38;5;241m<\u001b[39mZ\u001b[38;5;241m>\u001b[39mZ\n",
      "\u001b[1;31mValueError\u001b[0m: The truth value of an array with more than one element is ambiguous. Use a.any() or a.all()"
     ]
    }
   ],
   "source": [
    "#27\n",
    "Z = np.arange(4)\n",
    "Z**Z\n",
    "2 << Z >> 2\n",
    "Z <- Z\n",
    "1j*Z\n",
    "Z/1/1\n",
    "Z<Z>Z #не это"
   ]
  },
  {
   "cell_type": "code",
   "execution_count": 138,
   "id": "ffe7c16d",
   "metadata": {},
   "outputs": [
    {
     "data": {
      "text/plain": [
       "array([-2.14748365e+09])"
      ]
     },
     "execution_count": 138,
     "metadata": {},
     "output_type": "execute_result"
    }
   ],
   "source": [
    "#28\n",
    "np.array(0) / np.array(0)\n",
    "np.array(0) // np.array(0)\n",
    "np.array([np.nan]).astype(int).astype(float)"
   ]
  },
  {
   "cell_type": "code",
   "execution_count": 139,
   "id": "39ed7807",
   "metadata": {},
   "outputs": [
    {
     "data": {
      "text/plain": [
       "array([1, 7])"
      ]
     },
     "execution_count": 139,
     "metadata": {},
     "output_type": "execute_result"
    }
   ],
   "source": [
    "#30\n",
    "x = np.random.randint(0, 13, 7)\n",
    "y = np.random.randint(0, 13, 7)\n",
    "z = np.intersect1d(x, y)\n",
    "z\n"
   ]
  },
  {
   "cell_type": "code",
   "execution_count": 140,
   "id": "a743f2b7",
   "metadata": {},
   "outputs": [
    {
     "data": {
      "text/plain": [
       "{'divide': 'ignore', 'over': 'ignore', 'under': 'ignore', 'invalid': 'ignore'}"
      ]
     },
     "execution_count": 140,
     "metadata": {},
     "output_type": "execute_result"
    }
   ],
   "source": [
    "#31\n",
    "np.seterr(all=\"ignore\")"
   ]
  },
  {
   "cell_type": "code",
   "execution_count": 141,
   "id": "30f36766",
   "metadata": {},
   "outputs": [],
   "source": [
    "err = np.seterr(all=\"ignore\")\n",
    "_ = np.seterr(**err)\n"
   ]
  },
  {
   "cell_type": "code",
   "execution_count": 142,
   "id": "5c97343b",
   "metadata": {},
   "outputs": [
    {
     "data": {
      "text/plain": [
       "False"
      ]
     },
     "execution_count": 142,
     "metadata": {},
     "output_type": "execute_result"
    }
   ],
   "source": [
    "#32\n",
    "np.sqrt(-1) == np.emath.sqrt(-1)"
   ]
  },
  {
   "cell_type": "code",
   "execution_count": 143,
   "id": "f625dff2",
   "metadata": {},
   "outputs": [
    {
     "name": "stdout",
     "output_type": "stream",
     "text": [
      "2022-10-29 2022-10-30 2022-10-31\n"
     ]
    }
   ],
   "source": [
    "#33\n",
    "y = np.datetime64('today', 'D') - np.timedelta64(1, 'D')\n",
    "tod = np.datetime64('today', 'D')\n",
    "tom = np.datetime64('today', 'D') + np.timedelta64(1, 'D')\n",
    "print(y, tod, tom)"
   ]
  },
  {
   "cell_type": "code",
   "execution_count": 146,
   "id": "5795ad1d",
   "metadata": {},
   "outputs": [
    {
     "name": "stdout",
     "output_type": "stream",
     "text": [
      "['2016-07-01' '2016-07-02' '2016-07-03' '2016-07-04' '2016-07-05'\n",
      " '2016-07-06' '2016-07-07' '2016-07-08' '2016-07-09' '2016-07-10'\n",
      " '2016-07-11' '2016-07-12' '2016-07-13' '2016-07-14' '2016-07-15'\n",
      " '2016-07-16' '2016-07-17' '2016-07-18' '2016-07-19' '2016-07-20'\n",
      " '2016-07-21' '2016-07-22' '2016-07-23' '2016-07-24' '2016-07-25'\n",
      " '2016-07-26' '2016-07-27' '2016-07-28' '2016-07-29' '2016-07-30'\n",
      " '2016-07-31']\n"
     ]
    }
   ],
   "source": [
    "#34\n",
    "J = np.arange('2016-07', '2016-08', dtype='datetime64[D]')\n",
    "print(J)"
   ]
  },
  {
   "cell_type": "code",
   "execution_count": 152,
   "id": "b57c051e",
   "metadata": {},
   "outputs": [
    {
     "data": {
      "text/plain": [
       "array([-10., -10., -10., -10.])"
      ]
     },
     "execution_count": 152,
     "metadata": {},
     "output_type": "execute_result"
    }
   ],
   "source": [
    "#35\n",
    "A = np.ones(4)*4\n",
    "B = np.ones(4)\n",
    "np.add(A, B, out=B)\n",
    "np.divide(A, 2, out=A)\n",
    "np.negative(A, out=A)\n",
    "np.multiply(A, B, out=A)"
   ]
  },
  {
   "cell_type": "code",
   "execution_count": 6,
   "id": "50fc279a",
   "metadata": {},
   "outputs": [
    {
     "name": "stdout",
     "output_type": "stream",
     "text": [
      "[16. 18.  7.  6. 16. 17. 22. 22. 19. 19.]\n",
      "[16. 18.  7.  6. 16. 17. 22. 22. 19. 19.]\n",
      "[16. 18.  7.  6. 16. 17. 22. 22. 19. 19.]\n",
      "[16. 18.  7.  6. 16. 17. 22. 22. 19. 19.]\n"
     ]
    }
   ],
   "source": [
    "#36\n",
    "x = np.random.uniform(0, 24, size=10)\n",
    "\n",
    "print(x - x % 1)\n",
    "print(x // 1)\n",
    "print(np.floor(x))\n",
    "print(np.trunc(x))"
   ]
  },
  {
   "cell_type": "code",
   "execution_count": 8,
   "id": "dd78e3cd",
   "metadata": {},
   "outputs": [
    {
     "data": {
      "text/plain": [
       "array([[0, 1, 2, 3, 4],\n",
       "       [0, 1, 2, 3, 4],\n",
       "       [0, 1, 2, 3, 4],\n",
       "       [0, 1, 2, 3, 4],\n",
       "       [0, 1, 2, 3, 4]])"
      ]
     },
     "execution_count": 8,
     "metadata": {},
     "output_type": "execute_result"
    }
   ],
   "source": [
    "#37\n",
    "x = np.arange(5)\n",
    "x0 = x\n",
    "for i in range(4):\n",
    "    x = np.vstack((x, x0)) \n",
    "x"
   ]
  },
  {
   "cell_type": "code",
   "execution_count": 21,
   "id": "91089332",
   "metadata": {},
   "outputs": [
    {
     "data": {
      "text/plain": [
       "array([0., 1., 2., 3., 4., 5., 6., 7., 8., 9.])"
      ]
     },
     "execution_count": 21,
     "metadata": {},
     "output_type": "execute_result"
    }
   ],
   "source": [
    "#38\n",
    "def gen():\n",
    "    for x in range(10):\n",
    "        yield x\n",
    "x = np.fromiter(gen(),dtype=float,count=-1)\n",
    "x"
   ]
  },
  {
   "cell_type": "code",
   "execution_count": 22,
   "id": "0f79e5de",
   "metadata": {},
   "outputs": [
    {
     "data": {
      "text/plain": [
       "array([0.81488899, 0.57769925, 0.13425723, 0.12472635, 0.33203229,\n",
       "       0.59464807, 0.3774728 , 0.38743872, 0.72777677, 0.40051227])"
      ]
     },
     "execution_count": 22,
     "metadata": {},
     "output_type": "execute_result"
    }
   ],
   "source": [
    "#39\n",
    "x = np.random.uniform(0.1, 1, 10)\n",
    "x"
   ]
  },
  {
   "cell_type": "code",
   "execution_count": 23,
   "id": "eb5b0543",
   "metadata": {},
   "outputs": [
    {
     "data": {
      "text/plain": [
       "array([0.22637034, 0.35066209, 0.44012947, 0.48509695, 0.50511818,\n",
       "       0.517834  , 0.59355655, 0.61509386, 0.89354488, 0.98340901])"
      ]
     },
     "execution_count": 23,
     "metadata": {},
     "output_type": "execute_result"
    }
   ],
   "source": [
    "#40\n",
    "x = np.random.random(10)\n",
    "x.sort()\n",
    "x"
   ]
  },
  {
   "cell_type": "code",
   "execution_count": 24,
   "id": "202d56d2",
   "metadata": {},
   "outputs": [
    {
     "data": {
      "text/plain": [
       "45"
      ]
     },
     "execution_count": 24,
     "metadata": {},
     "output_type": "execute_result"
    }
   ],
   "source": [
    "#41\n",
    "x = np.arange(10)\n",
    "np.add.reduce(x)"
   ]
  },
  {
   "cell_type": "code",
   "execution_count": 26,
   "id": "8e9075de",
   "metadata": {},
   "outputs": [
    {
     "data": {
      "text/plain": [
       "False"
      ]
     },
     "execution_count": 26,
     "metadata": {},
     "output_type": "execute_result"
    }
   ],
   "source": [
    "#42\n",
    "a = np.random.random(10)\n",
    "b = np.random.random(10)\n",
    "np.allclose(a, b)"
   ]
  },
  {
   "cell_type": "code",
   "execution_count": 28,
   "id": "e1ac4326",
   "metadata": {},
   "outputs": [],
   "source": [
    "#43\n",
    "a = np.zeros(10)\n",
    "a.flags.writeable = False"
   ]
  },
  {
   "cell_type": "code",
   "execution_count": 29,
   "id": "6c206cc3",
   "metadata": {},
   "outputs": [
    {
     "data": {
      "text/plain": [
       "array([[1.26269681, 0.87958866],\n",
       "       [0.80592981, 0.03516802],\n",
       "       [1.01060549, 0.77105509],\n",
       "       [0.89056114, 0.58330646],\n",
       "       [0.99874946, 0.43752975],\n",
       "       [0.92979437, 0.78137971],\n",
       "       [0.94218837, 0.94157779],\n",
       "       [0.91694823, 0.43511776],\n",
       "       [0.99743849, 1.35714908],\n",
       "       [0.63681103, 1.40280875]])"
      ]
     },
     "execution_count": 29,
     "metadata": {},
     "output_type": "execute_result"
    }
   ],
   "source": [
    "#44\n",
    "def cartesian_to_polar(c):\n",
    "    p = np.array([[np.sqrt(x**2 + y**2), np.arctan2(y, x)] for x, y in c])\n",
    "    return p\n",
    "x = np.random.random((10,2))\n",
    "cartesian_to_polar(x)"
   ]
  },
  {
   "cell_type": "code",
   "execution_count": 38,
   "id": "87519bbb",
   "metadata": {},
   "outputs": [
    {
     "name": "stdout",
     "output_type": "stream",
     "text": [
      "[0.59492189 0.6975812  0.19804932 0.02371615 0.85910806 0.97897036\n",
      " 0.29120219 0.47319597 0.08328941 0.31567845]\n",
      "[0.59492189 0.6975812  0.19804932 0.02371615 0.85910806 0.\n",
      " 0.29120219 0.47319597 0.08328941 0.31567845]\n"
     ]
    }
   ],
   "source": [
    "#45\n",
    "x = np.random.random(10)\n",
    "print(x)\n",
    "x[x.argmax()] = 0\n",
    "print(x)"
   ]
  },
  {
   "cell_type": "code",
   "execution_count": 40,
   "id": "414b7ab7",
   "metadata": {},
   "outputs": [
    {
     "name": "stdout",
     "output_type": "stream",
     "text": [
      "[[(0.  , 0.  ) (0.25, 0.  ) (0.5 , 0.  ) (0.75, 0.  ) (1.  , 0.  )]\n",
      " [(0.  , 0.25) (0.25, 0.25) (0.5 , 0.25) (0.75, 0.25) (1.  , 0.25)]\n",
      " [(0.  , 0.5 ) (0.25, 0.5 ) (0.5 , 0.5 ) (0.75, 0.5 ) (1.  , 0.5 )]\n",
      " [(0.  , 0.75) (0.25, 0.75) (0.5 , 0.75) (0.75, 0.75) (1.  , 0.75)]\n",
      " [(0.  , 1.  ) (0.25, 1.  ) (0.5 , 1.  ) (0.75, 1.  ) (1.  , 1.  )]]\n"
     ]
    }
   ],
   "source": [
    "#46\n",
    "z = np.zeros((5, 5), [('x', float), ('y', float)])\n",
    "z['x'], z['y'] = np.meshgrid(np.linspace(0, 1, 5), np.linspace(0, 1, 5))\n",
    "print(z)"
   ]
  },
  {
   "cell_type": "code",
   "execution_count": 64,
   "id": "bbe558b0",
   "metadata": {},
   "outputs": [
    {
     "data": {
      "text/plain": [
       "array([[-0.63545976, -0.50304686,  0.4524624 ,  0.14482016],\n",
       "       [-2.13713787, -1.13360928,  0.30157937,  0.12483047],\n",
       "       [-0.27866699, -0.24982917,  5.12086149,  0.2044878 ],\n",
       "       [-0.11286639, -0.10782536, -0.19699614, -2.62292332]])"
      ]
     },
     "execution_count": 64,
     "metadata": {},
     "output_type": "execute_result"
    }
   ],
   "source": [
    "#47\n",
    "x = np.random.uniform(0.1, 10, 4)\n",
    "y = np.random.uniform(0.1, 10, 4)\n",
    "c = 1.0 / (x.reshape((-1, 1)) - y)\n",
    "c\n"
   ]
  },
  {
   "cell_type": "code",
   "execution_count": 53,
   "id": "cc36c431",
   "metadata": {},
   "outputs": [
    {
     "name": "stdout",
     "output_type": "stream",
     "text": [
      "-128\n",
      "127\n",
      "-2147483648\n",
      "2147483647\n",
      "-9223372036854775808\n",
      "9223372036854775807\n",
      "-3.4028235e+38\n",
      "3.4028235e+38\n",
      "-1.7976931348623157e+308\n",
      "1.7976931348623157e+308\n"
     ]
    }
   ],
   "source": [
    "#48\n",
    "for dtype in [np.int8, np.int32, np.int64]:\n",
    "    print(np.iinfo(dtype).min)\n",
    "    print(np.iinfo(dtype).max)\n",
    "for dtype in [np.float32, np.float64]:\n",
    "    print(np.finfo(dtype).min)\n",
    "    print(np.finfo(dtype).max)"
   ]
  },
  {
   "cell_type": "code",
   "execution_count": 59,
   "id": "f514caf7",
   "metadata": {},
   "outputs": [
    {
     "name": "stdout",
     "output_type": "stream",
     "text": [
      "[[0. 0. 0. 0.]\n",
      " [0. 0. 0. 0.]\n",
      " [0. 0. 0. 0.]\n",
      " [0. 0. 0. 0.]]\n"
     ]
    }
   ],
   "source": [
    "#49\n",
    "np.set_printoptions(threshold = float(\"inf\"))\n",
    "x = np.zeros((4, 4))\n",
    "print(x)"
   ]
  },
  {
   "cell_type": "code",
   "execution_count": 62,
   "id": "3a1fd1ea",
   "metadata": {},
   "outputs": [
    {
     "name": "stdout",
     "output_type": "stream",
     "text": [
      "65\n"
     ]
    }
   ],
   "source": [
    "#50\n",
    "x = np.arange(241)\n",
    "v = np.random.uniform(0,100)\n",
    "i = (np.abs(x-v)).argmin()\n",
    "print(x[i])"
   ]
  },
  {
   "cell_type": "code",
   "execution_count": 63,
   "id": "0b378dfb",
   "metadata": {},
   "outputs": [
    {
     "name": "stdout",
     "output_type": "stream",
     "text": [
      "[((0., 0.), (0., 0., 0.)) ((0., 0.), (0., 0., 0.))\n",
      " ((0., 0.), (0., 0., 0.)) ((0., 0.), (0., 0., 0.))\n",
      " ((0., 0.), (0., 0., 0.)) ((0., 0.), (0., 0., 0.))\n",
      " ((0., 0.), (0., 0., 0.)) ((0., 0.), (0., 0., 0.))\n",
      " ((0., 0.), (0., 0., 0.)) ((0., 0.), (0., 0., 0.))]\n"
     ]
    },
    {
     "name": "stderr",
     "output_type": "stream",
     "text": [
      "C:\\Users\\HP\\AppData\\Local\\Temp\\ipykernel_17612\\724186763.py:2: FutureWarning: Passing (type, 1) or '1type' as a synonym of type is deprecated; in a future version of numpy, it will be understood as (type, (1,)) / '(1,)type'.\n",
      "  a = np.zeros(10, [ ('position', [ ('x', float, 1), ('y', float, 1)]),\n"
     ]
    }
   ],
   "source": [
    "#51\n",
    "a = np.zeros(10, [ ('position', [ ('x', float, 1), ('y', float, 1)]),\n",
    "                   ('color',    [ ('r', float, 1), ('g', float, 1), ('b', float, 1)])])\n",
    "print(a)"
   ]
  },
  {
   "cell_type": "code",
   "execution_count": 67,
   "id": "7aaeb232",
   "metadata": {},
   "outputs": [
    {
     "name": "stdout",
     "output_type": "stream",
     "text": [
      "[[0.         0.58603865 0.56948432 0.78027692 1.14434184 0.80403984\n",
      "  0.69171968 0.69819233 1.13364883 0.43590099]\n",
      " [0.58603865 0.         0.58092037 0.20293358 0.79013653 0.91711366\n",
      "  0.21557722 0.30631079 0.7855159  0.29747224]\n",
      " [0.56948432 0.58092037 0.         0.6542151  0.64215864 0.33676965\n",
      "  0.47967221 0.39644024 0.62892328 0.29722974]\n",
      " [0.78027692 0.20293358 0.6542151  0.         0.67412265 0.97485189\n",
      "  0.17717743 0.27843478 0.67278731 0.42380946]\n",
      " [1.14434184 0.79013653 0.64215864 0.67412265 0.         0.7530112\n",
      "  0.5746178  0.49768906 0.01458681 0.72010634]\n",
      " [0.80403984 0.91711366 0.33676965 0.97485189 0.7530112  0.\n",
      "  0.79771171 0.7018824  0.73843217 0.63240259]\n",
      " [0.69171968 0.21557722 0.47967221 0.17717743 0.5746178  0.79771171\n",
      "  0.         0.10654924 0.56993947 0.28223182]\n",
      " [0.69819233 0.30631079 0.39644024 0.27843478 0.49768906 0.7018824\n",
      "  0.10654924 0.         0.49116951 0.26468156]\n",
      " [1.13364883 0.7855159  0.62892328 0.67278731 0.01458681 0.73843217\n",
      "  0.56993947 0.49116951 0.         0.71060878]\n",
      " [0.43590099 0.29747224 0.29722974 0.42380946 0.72010634 0.63240259\n",
      "  0.28223182 0.26468156 0.71060878 0.        ]]\n"
     ]
    }
   ],
   "source": [
    "#52\n",
    "import scipy.spatial as sp\n",
    "\n",
    "x = np.random.random((10, 2))\n",
    "D = sp.distance.cdist(x, x)\n",
    "print(D)"
   ]
  },
  {
   "cell_type": "code",
   "execution_count": 74,
   "id": "b2cdddc5",
   "metadata": {},
   "outputs": [
    {
     "name": "stdout",
     "output_type": "stream",
     "text": [
      "[0 1 2 3 4 5 6 7 8 9]\n"
     ]
    }
   ],
   "source": [
    "#53\n",
    "x = np.arange(10, dtype=np.float32)\n",
    "x = x.astype(np.int32, copy=False)\n",
    "print(x)"
   ]
  },
  {
   "cell_type": "code",
   "execution_count": 75,
   "id": "e0ec9ba9",
   "metadata": {},
   "outputs": [
    {
     "name": "stdout",
     "output_type": "stream",
     "text": [
      "[[ 1.  2.  3.  4.  5.]\n",
      " [ 6. nan nan  7.  8.]\n",
      " [nan nan  9. 10. 11.]]\n"
     ]
    }
   ],
   "source": [
    "#54\n",
    "x = np.genfromtxt('1.txt', delimiter=',')  \n",
    "print(x)"
   ]
  },
  {
   "cell_type": "code",
   "execution_count": 79,
   "id": "76dfb5f6",
   "metadata": {},
   "outputs": [
    {
     "name": "stdout",
     "output_type": "stream",
     "text": [
      "(0, 0) 0\n",
      "(0, 1) 1\n",
      "(0, 2) 2\n",
      "(1, 0) 3\n",
      "(1, 1) 4\n",
      "(1, 2) 5\n",
      "(2, 0) 6\n",
      "(2, 1) 7\n",
      "(2, 2) 8\n",
      "(0, 0) 0\n",
      "(0, 1) 1\n",
      "(0, 2) 2\n",
      "(1, 0) 3\n",
      "(1, 1) 4\n",
      "(1, 2) 5\n",
      "(2, 0) 6\n",
      "(2, 1) 7\n",
      "(2, 2) 8\n"
     ]
    }
   ],
   "source": [
    "#55\n",
    "x = np.arange(9).reshape(3,3)\n",
    "for i, value in np.ndenumerate(x):\n",
    "    print(i, value)\n",
    "for i in np.ndindex(x.shape):\n",
    "    print(i, x[i])"
   ]
  },
  {
   "cell_type": "code",
   "execution_count": 80,
   "id": "f17936b9",
   "metadata": {},
   "outputs": [
    {
     "name": "stdout",
     "output_type": "stream",
     "text": [
      "[[0.36787944 0.44822088 0.51979489 0.57375342 0.60279818 0.60279818\n",
      "  0.57375342 0.51979489 0.44822088 0.36787944]\n",
      " [0.44822088 0.54610814 0.63331324 0.69905581 0.73444367 0.73444367\n",
      "  0.69905581 0.63331324 0.54610814 0.44822088]\n",
      " [0.51979489 0.63331324 0.73444367 0.81068432 0.85172308 0.85172308\n",
      "  0.81068432 0.73444367 0.63331324 0.51979489]\n",
      " [0.57375342 0.69905581 0.81068432 0.89483932 0.9401382  0.9401382\n",
      "  0.89483932 0.81068432 0.69905581 0.57375342]\n",
      " [0.60279818 0.73444367 0.85172308 0.9401382  0.98773022 0.98773022\n",
      "  0.9401382  0.85172308 0.73444367 0.60279818]\n",
      " [0.60279818 0.73444367 0.85172308 0.9401382  0.98773022 0.98773022\n",
      "  0.9401382  0.85172308 0.73444367 0.60279818]\n",
      " [0.57375342 0.69905581 0.81068432 0.89483932 0.9401382  0.9401382\n",
      "  0.89483932 0.81068432 0.69905581 0.57375342]\n",
      " [0.51979489 0.63331324 0.73444367 0.81068432 0.85172308 0.85172308\n",
      "  0.81068432 0.73444367 0.63331324 0.51979489]\n",
      " [0.44822088 0.54610814 0.63331324 0.69905581 0.73444367 0.73444367\n",
      "  0.69905581 0.63331324 0.54610814 0.44822088]\n",
      " [0.36787944 0.44822088 0.51979489 0.57375342 0.60279818 0.60279818\n",
      "  0.57375342 0.51979489 0.44822088 0.36787944]]\n"
     ]
    }
   ],
   "source": [
    "#56\n",
    "X, Y = np.meshgrid(np.linspace(-1, 1, 10), np.linspace(-1, 1, 10))\n",
    "D = np.sqrt(X**2 + Y**2)\n",
    "sigma, mu = 1.0, 0.0\n",
    "G = np.exp(-( (D-mu)**2 / (2.0*sigma**2) ))\n",
    "print (G)"
   ]
  },
  {
   "cell_type": "code",
   "execution_count": 82,
   "id": "2191ecb2",
   "metadata": {},
   "outputs": [
    {
     "name": "stdout",
     "output_type": "stream",
     "text": [
      "[[0. 0. 0. 0. 0.]\n",
      " [0. 0. 1. 0. 0.]\n",
      " [0. 1. 0. 0. 0.]\n",
      " [0. 0. 0. 0. 1.]\n",
      " [0. 0. 0. 0. 0.]]\n"
     ]
    }
   ],
   "source": [
    "#57\n",
    "p = 3\n",
    "A = np.zeros((5,5))\n",
    "np.put(A, np.random.choice(range(5*5), p, replace=False),1)\n",
    "print(A)"
   ]
  },
  {
   "cell_type": "code",
   "execution_count": 83,
   "id": "e97d787b",
   "metadata": {},
   "outputs": [
    {
     "name": "stdout",
     "output_type": "stream",
     "text": [
      "[[-0.52523246  0.15242029 -0.00661557  0.3045188  -0.43251445  0.21548463\n",
      "  -0.08743479  0.08724413  0.20082997  0.09129945]\n",
      " [-0.07908413  0.29194639 -0.56111044  0.14314172 -0.0551773   0.17070731\n",
      "   0.17703529 -0.42108487  0.07362992  0.25999611]\n",
      " [ 0.43669065 -0.10944969  0.248245   -0.42912775  0.11652465  0.21185095\n",
      "  -0.37299995  0.00104713  0.37036507 -0.47314607]\n",
      " [-0.40421702  0.16781279  0.1560723  -0.40056618 -0.29667505  0.43145984\n",
      "  -0.04732937  0.26807938  0.15225325 -0.02688995]\n",
      " [-0.06018241  0.23145786 -0.02838948 -0.02091023 -0.48595745  0.29946286\n",
      "   0.42373747  0.3519435  -0.28133928 -0.42982284]]\n"
     ]
    }
   ],
   "source": [
    "#58\n",
    "x = np.random.rand(5, 10)\n",
    "y = x - x.mean(axis=1, keepdims=True)\n",
    "y = x - x.mean(axis=1).reshape(-1, 1)\n",
    "\n",
    "print(y)"
   ]
  },
  {
   "cell_type": "code",
   "execution_count": 86,
   "id": "a4d33699",
   "metadata": {},
   "outputs": [
    {
     "name": "stdout",
     "output_type": "stream",
     "text": [
      "[[1 7 0 3]\n",
      " [8 6 4 1]\n",
      " [0 6 1 5]]\n",
      "[[1 7 0 3]\n",
      " [0 6 1 5]\n",
      " [8 6 4 1]]\n"
     ]
    }
   ],
   "source": [
    "#59\n",
    "n = 2\n",
    "a = np.random.randint(0, 10, (3, 4))\n",
    "print(a)\n",
    "print(a [a[:, n].argsort() ])"
   ]
  },
  {
   "cell_type": "code",
   "execution_count": 95,
   "id": "bc21aca1",
   "metadata": {},
   "outputs": [
    {
     "name": "stdout",
     "output_type": "stream",
     "text": [
      "True\n"
     ]
    }
   ],
   "source": [
    "#60\n",
    "a = np.random.randint(0, 2, (3, 4))\n",
    "\n",
    "print((~a.any(axis = 0)).any())\n"
   ]
  },
  {
   "cell_type": "code",
   "execution_count": 98,
   "id": "2c25d420",
   "metadata": {},
   "outputs": [
    {
     "name": "stdout",
     "output_type": "stream",
     "text": [
      "6.082058921159433\n"
     ]
    }
   ],
   "source": [
    "#61\n",
    "x = np.random.uniform(0, 10, 10)\n",
    "a = 6\n",
    "m = x.flat[np.abs(x - a).argmin()]\n",
    "print(m)"
   ]
  },
  {
   "cell_type": "code",
   "execution_count": 99,
   "id": "aa5d93d4",
   "metadata": {},
   "outputs": [
    {
     "name": "stdout",
     "output_type": "stream",
     "text": [
      "[[0 1 2]\n",
      " [1 2 3]\n",
      " [2 3 4]]\n"
     ]
    }
   ],
   "source": [
    "#62\n",
    "A = np.arange(3).reshape(3, 1)\n",
    "B = np.arange(3).reshape(1, 3)\n",
    "it = np.nditer([A, B, None])\n",
    "for x, y, z in it:\n",
    "    z[...] = x + y\n",
    "print (it.operands[2])"
   ]
  },
  {
   "cell_type": "code",
   "execution_count": 101,
   "id": "44c1dead",
   "metadata": {},
   "outputs": [
    {
     "name": "stdout",
     "output_type": "stream",
     "text": [
      "range_10\n"
     ]
    }
   ],
   "source": [
    "#63\n",
    "class NameArray(np.ndarray):\n",
    "    def __new__(cls, array, name=\"no name\"):\n",
    "        obj = np.asarray(array).view(cls)\n",
    "        obj.name = name\n",
    "        return obj\n",
    "    def __array_finalize__(self, obj):\n",
    "        if obj is None: return\n",
    "        self.info = getattr(obj, 'name', \"no name\")\n",
    "\n",
    "a = NameArray(np.arange(10), \"range_10\")\n",
    "print(a.name)"
   ]
  },
  {
   "cell_type": "code",
   "execution_count": 103,
   "id": "37cdf90e",
   "metadata": {},
   "outputs": [
    {
     "name": "stdout",
     "output_type": "stream",
     "text": [
      "[4. 2. 1. 3. 2. 3. 2. 5. 5. 3.]\n"
     ]
    }
   ],
   "source": [
    "#64\n",
    "x = np.ones(10)\n",
    "y = np.random.randint(0, 10, 20)\n",
    "np.add.at(x, y, 1)\n",
    "print(x)\n"
   ]
  },
  {
   "cell_type": "code",
   "execution_count": 125,
   "id": "2aecd36c",
   "metadata": {},
   "outputs": [
    {
     "name": "stdout",
     "output_type": "stream",
     "text": [
      "[0. 0. 0. 0. 1. 0. 0. 9. 0. 5.]\n"
     ]
    }
   ],
   "source": [
    "#65\n",
    "X = np.arange(6)\n",
    "I = np.random.randint(0, 10, 6)\n",
    "F = np.bincount(I, X)\n",
    "print(F)"
   ]
  },
  {
   "cell_type": "code",
   "execution_count": 126,
   "id": "f8a31536",
   "metadata": {},
   "outputs": [
    {
     "name": "stdout",
     "output_type": "stream",
     "text": [
      "[0 1]\n"
     ]
    }
   ],
   "source": [
    "#66\n",
    "w, h = 16, 16\n",
    "I = np.random.randint(0, 2, (h, w, 3)).astype(np.ubyte)\n",
    "F = I[..., 0] * 256 * 256 + I[..., 1] * 256 + I[..., 2]\n",
    "n = len(np.unique(F))\n",
    "print(np.unique(I))"
   ]
  },
  {
   "cell_type": "code",
   "execution_count": 127,
   "id": "9571c992",
   "metadata": {},
   "outputs": [
    {
     "name": "stdout",
     "output_type": "stream",
     "text": [
      "[[63 59 61 44]\n",
      " [58 50 55 62]\n",
      " [68 57 61 73]]\n",
      "[[63 59 61 44]\n",
      " [58 50 55 62]\n",
      " [68 57 61 73]]\n"
     ]
    }
   ],
   "source": [
    "#67\n",
    "A = np.random.randint(0, 10, (3, 4, 3, 4))\n",
    "sum = A.sum(axis=(-2, -1))\n",
    "print(sum)\n",
    "sum = A.reshape(A.shape[:-2] + (-1,)).sum(axis=-1)\n",
    "print(sum)"
   ]
  },
  {
   "cell_type": "code",
   "execution_count": null,
   "id": "1da01e46",
   "metadata": {},
   "outputs": [],
   "source": [
    "#68"
   ]
  }
 ],
 "metadata": {
  "kernelspec": {
   "display_name": "Python 3 (ipykernel)",
   "language": "python",
   "name": "python3"
  },
  "language_info": {
   "codemirror_mode": {
    "name": "ipython",
    "version": 3
   },
   "file_extension": ".py",
   "mimetype": "text/x-python",
   "name": "python",
   "nbconvert_exporter": "python",
   "pygments_lexer": "ipython3",
   "version": "3.9.12"
  }
 },
 "nbformat": 4,
 "nbformat_minor": 5
}
