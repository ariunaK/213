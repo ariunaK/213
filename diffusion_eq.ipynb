{
 "cells": [
  {
   "cell_type": "markdown",
   "metadata": {},
   "source": [
    "Before you turn this problem in, make sure everything runs as expected. First, **restart the kernel** (in the menubar, select Kernel$\\rightarrow$Restart) and then **run all cells** (in the menubar, select Cell$\\rightarrow$Run All).\n",
    "\n",
    "Make sure you fill in any place that says `YOUR CODE HERE` or \"YOUR ANSWER HERE\", as well as your github nickname below:"
   ]
  },
  {
   "cell_type": "code",
   "execution_count": 1,
   "metadata": {},
   "outputs": [],
   "source": [
    "NICKNAME = \"ariunaK\""
   ]
  },
  {
   "cell_type": "markdown",
   "metadata": {},
   "source": [
    "---"
   ]
  },
  {
   "cell_type": "code",
   "execution_count": 2,
   "metadata": {
    "ExecuteTime": {
     "end_time": "2022-10-16T16:57:50.429731Z",
     "start_time": "2022-10-16T16:57:50.035348Z"
    },
    "deletable": false,
    "editable": false,
    "nbgrader": {
     "cell_type": "code",
     "checksum": "f9442c545e8df4c2ba59332459429cb0",
     "grade": false,
     "grade_id": "cell-1f3c409b83417207",
     "locked": true,
     "schema_version": 3,
     "solution": false,
     "task": false
    }
   },
   "outputs": [],
   "source": [
    "import numpy as np\n",
    "import matplotlib.pyplot as plt\n",
    "from scipy.linalg import solve_banded"
   ]
  },
  {
   "cell_type": "markdown",
   "metadata": {
    "deletable": false,
    "editable": false,
    "nbgrader": {
     "cell_type": "markdown",
     "checksum": "77776c6ca478da9bc4329bc31659dc22",
     "grade": false,
     "grade_id": "cell-1f50c443be423d90",
     "locked": true,
     "schema_version": 3,
     "solution": false,
     "task": false
    }
   },
   "source": [
    "# Стационарное уравнение теплопроводности\n",
    "Краевая задача уравнения теплопроводности с постоянным к-т тепло-ти может быть записанна в виде:\n",
    "$$\n",
    "-u'' + q(x)u = f(x), \\; x\\in[0, l]\n",
    "$$\n",
    "Рассмотрим граничное условие первого рода:\n",
    "$$\n",
    "u(0)=u_0 , u(l) = u_l\n",
    "$$\n",
    "\n",
    "## Сеточное решение\n",
    "\n",
    "Введем сеточную функцию и апроксимируем задачу разностной схемой:\n",
    "$$ \n",
    "u_i = u(t_i) = u(hi),\\; i\\in[0, N], h = \\frac{l}{N}\n",
    "$$\n",
    "\n",
    "$$\n",
    "-\\frac{u_{i+1}-2u_i+u_{i-1}}{h^2} + q_i u_i = f_i\n",
    "$$\n",
    "\n",
    "Как обсуждалось на семинаре, это соотношение справедливо во внутренних точках, на краях же имеем условие $u[0]=u_0, u[N] = u_l$. Полученная ситема является СЛАУ с трёхдиагональной матрицей, которая может быть эффективно решена за линейное время (см. `scipy.linalg.solve_banded`). \n",
    "\n",
    "**Напишите функцию, реализующую изложенную методику** (можно использовать `solve_banded` или прогонку)"
   ]
  },
  {
   "cell_type": "code",
   "execution_count": 24,
   "metadata": {
    "ExecuteTime": {
     "end_time": "2022-10-16T11:48:56.470730Z",
     "start_time": "2022-10-16T11:48:56.458758Z"
    },
    "deletable": false,
    "nbgrader": {
     "cell_type": "code",
     "checksum": "a3cfd69b5c6b3d192dc89e17132fdea3",
     "grade": false,
     "grade_id": "cell-802f7f059232f1a6",
     "locked": false,
     "schema_version": 3,
     "solution": true,
     "task": false
    }
   },
   "outputs": [],
   "source": [
    "def heat_trans(q, f, u0, ul, l, N):\n",
    "    \"\"\" Solve the heat trasfer equation `u_xx + q(x)u=f(x)` for x in (0; lx) with grid step h = l/N.\n",
    "    \n",
    "    Parameters\n",
    "    ----------\n",
    "    q: callable\n",
    "        heat emission coef\n",
    "    f: callable\n",
    "        heat source\n",
    "    u0 : real\n",
    "       Boundary condition for x = 0\n",
    "    ul : real\n",
    "       Boundary condition for x = l\n",
    "    N : integer\n",
    "       Amount of spatial steps\n",
    "       \n",
    "    Returns\n",
    "    -------\n",
    "    u : ndarray, shape (N,)\n",
    "        u[i] = u(t=h*i)\n",
    "       \n",
    "    \"\"\"\n",
    "    \n",
    "    # YOUR CODE HERE\n",
    "    h = l / N\n",
    "    r1 = np.array([-1 / h ** 2] * (N - 1))\n",
    "    r1[0] = 0\n",
    "    r2 = [2 / (h**2) + q(i * h) for i in range(1, N)]\n",
    "    r3 = np.array([-1 / h ** 2] * (N - 1))\n",
    "    r3[-1] = 0\n",
    "    A = np.array([r1, r2, r3])\n",
    "    B = np.array([f(i * h) for i in range(1, N)])\n",
    "    B[0] -= (-1 / h**2) * u0\n",
    "    B[-1] -= (-1 / h**2) * ul\n",
    "    u = np.hstack(([u0], solve_banded((1, 1), A, B), [ul]))\n",
    "    return u"
   ]
  },
  {
   "cell_type": "markdown",
   "metadata": {
    "deletable": false,
    "editable": false,
    "nbgrader": {
     "cell_type": "markdown",
     "checksum": "95d9776202ddcc5b2bb593ed17ab956d",
     "grade": false,
     "grade_id": "cell-5b408641fdb0d4ec",
     "locked": true,
     "schema_version": 3,
     "solution": false,
     "task": false
    }
   },
   "source": [
    "## Анализ ошибки сеточного решения. Правило Рунге\n",
    "Шаг сетки необходимо делать достаточно малым, чтобы решение мало отклонялось от истинного, однако более мелкий шаг требует большего машинного времени, поэтому остро встает вопрос об оценке этой погрешности для данного шага $h$\n",
    "\n",
    "\n",
    "\n",
    "Рассмотрим следующую задачу:\n",
    " $$\n",
    " -u'' + x^2u = \\left(\\frac{\\pi^2}{4}+x^2\\right)\\cos\\frac{\\pi}{2}x,\\; x\\in [0,1], u(0)=1, u(1)=0\n",
    " $$\n",
    " \n",
    "Она может быть решена аналитически, $u_{exact} = \\cos \\frac{\\pi}{2}x$, так что в данном случае можно точно найти ошибку сеточного решения:\n",
    "$$\n",
    "\\epsilon_h(x_i) = u_h[x_i] - u_{exact}(x_i)\n",
    "$$\n",
    "\n",
    "Однако на практике, разумеется, точное решение неизвестно, и необходи получать такую оценку апостериорно.\n",
    "\n",
    "Для этого необходимо сравнивать решения на стеках с различными $h$ (В духе критерия Коши про фундаментальную последовательность.)\n",
    "\n",
    "В ситуации общего положения приходится ограничеваться грубой оценкой $|\\epsilon_1(x)| \\sim |u_1(x)-u_2(x)|  = \\epsilon_1^{Cauchy}$, где $u_2$ - решение на предыдущей(более грубой сетке).\n",
    "\n",
    "Однако часто из анализа схемы известна асимптотика погрешности\n",
    "$\\epsilon_h(x)  \\sim C h^p$, у нас $p=2$, в этом случае **Правило Рунге** позволяет получить более точную оценку и улучшить решение.\n",
    "\n",
    "Рассмотрим две сетки $h_1 = h, h_2 = 2h$, причем узлы сетки $1$ содержат узлы сетки $2$: $x_{i_2} = h_1 i_1 = h_2 i_2 \\implies i_1 = 2i_2$\n",
    "\n",
    "Тогда можено выписать значения погрешностей в этих узлах\n",
    "$$\n",
    "\\epsilon_1(x) = u_1(x) - u(x) \\approx C\\, h^2,\n",
    "$$\n",
    "\n",
    "\n",
    "$$\n",
    "\\epsilon_2(x) = u_2(x) - u(x) \\approx C\\, 2^2 h^2\n",
    "$$\n",
    "\n",
    "Исключая $u(x), C$ можем найти оценку в общих узлах\n",
    "$$\n",
    "\\epsilon_1 \\approx \\frac{u_2(x)-u_1(x)}{2^2-1} = \\epsilon_1^{sim}\n",
    "$$\n",
    "\n",
    "    Заметим, что получив это мы можем улучшить наше решение u_1 в этих узлах:\n",
    "$$\n",
    "u_{1}^{sim}(t) =  \\approx u_1(t) - \\epsilon_1^{sim}(t) \\;(\\approx u_1(t)-\\epsilon_1(t)=u(t))\n",
    "$$\n",
    "\n",
    "**Используя написанную вами функцию `heat_trans`, решите задачу выше с шагом $h_1 = h = 1/2^6$ и $h_2 = 2h$, постройте** \n",
    "\n",
    "- на одном графике точное значение ошибки $\\epsilon^1$ , оценку этой ошибки по правилу Рунге $\\epsilon^1_{sim}$.\n",
    "и \"по Коши\" $\\epsilon_1^{Cauchy}$ (в точках $i_1 = 2 i_2$)\n",
    "- на другом графике ошибку улучшенного решения $u_1^{sim}(t)-u(t) = \\epsilon_1 - \\epsilon_1^{sim}$"
   ]
  },
  {
   "cell_type": "code",
   "execution_count": 28,
   "metadata": {
    "ExecuteTime": {
     "end_time": "2022-10-16T12:27:07.432403Z",
     "start_time": "2022-10-16T12:27:07.130402Z"
    },
    "deletable": false,
    "nbgrader": {
     "cell_type": "code",
     "checksum": "251cdae4d90a5bf48ec6a2f45cf80933",
     "grade": true,
     "grade_id": "cell-47016d5ee30ed88e",
     "locked": false,
     "points": 4,
     "schema_version": 3,
     "solution": true,
     "task": false
    }
   },
   "outputs": [
    {
     "data": {
      "text/plain": [
       "<matplotlib.legend.Legend at 0x1cf8057b160>"
      ]
     },
     "execution_count": 28,
     "metadata": {},
     "output_type": "execute_result"
    },
    {
     "data": {
      "image/png": "[encoded data removed]",
      "text/plain": [
       "<Figure size 1080x432 with 2 Axes>"
      ]
     },
     "metadata": {
      "needs_background": "light"
     },
     "output_type": "display_data"
    }
   ],
   "source": [
    "# YOUR CODE HERE\n",
    "u0 = 1\n",
    "ul = 0\n",
    "l = 1\n",
    "N = 2**6\n",
    "h = 1 / N\n",
    "q = lambda x: x**2\n",
    "f = lambda x: (np.pi**2 / 4 + x**2) * np.cos((np.pi / 2) * x)\n",
    "\n",
    "y = lambda x: np.cos(np.pi / 2 * x)\n",
    "\n",
    "u = heat_trans(q, f, u0, ul, l, N)\n",
    "y2 = heat_trans(q, f, u0, ul, l, 2**5)\n",
    "y1 = np.array([u[2 * i] for i in range(len(y2))])\n",
    "ut = np.array([y(i * l * 2 * h) for i in range(len(y2))])\n",
    "x1 = [i * l * 2 * h for i in range(len(y2))]\n",
    "\n",
    "ec = abs(y2 - y1)\n",
    "es = (y2 - y1) / (2**2 - 1)\n",
    "e1 = y1 - ut - es\n",
    "\n",
    "fig, axes = plt.subplots(1, 2, figsize=(15,6))\n",
    "ax1, ax2 = axes\n",
    "ax1.plot(x1, ec, label=\"Коши\")\n",
    "ax1.plot(x1, es, label=\"Ругне\")\n",
    "ax1.grid(True)\n",
    "ax1.legend(loc='best')\n",
    "\n",
    "ax2.plot(x1, e1, label=\"улучшенное\")\n",
    "ax2.grid(True)\n",
    "ax2.legend(loc='best')\n"
   ]
  },
  {
   "cell_type": "markdown",
   "metadata": {
    "ExecuteTime": {
     "end_time": "2022-10-16T11:41:25.386670Z",
     "start_time": "2022-10-16T11:41:25.380709Z"
    },
    "deletable": false,
    "editable": false,
    "nbgrader": {
     "cell_type": "markdown",
     "checksum": "c79aeb31b76c2873113e1a52d172fb33",
     "grade": false,
     "grade_id": "cell-12783aca97e83df5",
     "locked": true,
     "schema_version": 3,
     "solution": false,
     "task": false
    }
   },
   "source": [
    "**Какой порядок точности по $h$ имеет улучшенное решение (Объясните аналитически)?\n",
    "Можно ли как то получить улучшенное решение в оставшихся узлах сетки $1$ с той же точностью?**\n"
   ]
  },
  {
   "cell_type": "markdown",
   "metadata": {
    "deletable": false,
    "nbgrader": {
     "cell_type": "markdown",
     "checksum": "1038a00b1667eee2f047f443dca2e7ac",
     "grade": true,
     "grade_id": "cell-8efbfdf556b2379f",
     "locked": false,
     "points": 2,
     "schema_version": 3,
     "solution": true,
     "task": false
    }
   },
   "source": [
    "порядок точности - 3"
   ]
  },
  {
   "cell_type": "markdown",
   "metadata": {
    "deletable": false,
    "editable": false,
    "nbgrader": {
     "cell_type": "markdown",
     "checksum": "7b51e952a47cc0582338da324fd077f9",
     "grade": false,
     "grade_id": "cell-eb438faed9707cd4",
     "locked": true,
     "schema_version": 3,
     "solution": false,
     "task": false
    }
   },
   "source": [
    "# Динамическое уравнение теплопроводности"
   ]
  },
  {
   "cell_type": "markdown",
   "metadata": {
    "deletable": false,
    "editable": false,
    "nbgrader": {
     "cell_type": "markdown",
     "checksum": "fe9095c50cea8c0a457b8634dbd79e35",
     "grade": false,
     "grade_id": "cell-599ee3f9a235ac60",
     "locked": true,
     "schema_version": 3,
     "solution": false,
     "task": false
    }
   },
   "source": [
    "Начально-краевая задача для уравнения теплопроводности с постоянным коэффициентом в общем виде можно записать следующим образом:\n",
    "$$\n",
    "\\begin{array}{l}\n",
    "\\dfrac{\\partial u}{\\partial t} = \\alpha \\dfrac{\\partial^2 u}{\\partial x^2} - q(x,t)u+f(x, t), \\; t > 0, \\; x \\in (0, l_x), \\\\\n",
    "\\left. u \\right|_{t=0} = u_0(x), \\\\\n",
    "\\left. u \\right|_{x=0} = \\mu_1(t), \\\\\n",
    "\\left. u \\right|_{x=l_x} = \\mu_2(t),\n",
    "\\end{array}$$\n",
    "где $u(x, t)$ - функция температуры, $\\alpha = const$ - коэффициент теплопроводности, $f(x, t)$ - функция источника, $q(x,t)$ - к-т теплоотдачи. "
   ]
  },
  {
   "cell_type": "markdown",
   "metadata": {
    "deletable": false,
    "editable": false,
    "nbgrader": {
     "cell_type": "markdown",
     "checksum": "94a75ca8d7a3d8ad9d8a605fb2bd9eb9",
     "grade": false,
     "grade_id": "cell-5b3341c907f81351",
     "locked": true,
     "schema_version": 3,
     "solution": false,
     "task": false
    }
   },
   "source": [
    "## Явная схема"
   ]
  },
  {
   "cell_type": "markdown",
   "metadata": {
    "deletable": false,
    "editable": false,
    "nbgrader": {
     "cell_type": "markdown",
     "checksum": "c4fccf8ad55cc6389875fab505b4b526",
     "grade": false,
     "grade_id": "cell-c41e33ca4836e2d3",
     "locked": true,
     "schema_version": 3,
     "solution": false,
     "task": false
    }
   },
   "source": [
    "Запишем разностное уравнение явной схемы:\n",
    "$$\\dfrac{y_i^{k+1} - y_i^{k}}{\\tau} = \\alpha \\dfrac{y_{i+1}^{k} - 2 y_i^{k} + y_{i-1}^{k}}{h^2} - q_i^k y_i^k+ f_i^k,$$\n",
    "где $\\tau$ и $h$ - шаги по времени и пространству, $y_i^k$ - значение приближённого решения в точке $(i, k)$ сетки, $f_i^k$ - значение функции источника в той же точке сетки. "
   ]
  },
  {
   "cell_type": "markdown",
   "metadata": {
    "deletable": false,
    "editable": false,
    "nbgrader": {
     "cell_type": "markdown",
     "checksum": "55448bbf176c3205d497338340fb2e5b",
     "grade": false,
     "grade_id": "cell-9e9ed34da8999766",
     "locked": true,
     "schema_version": 3,
     "solution": false,
     "task": false
    }
   },
   "source": [
    "Аппроксимируем начальное и граничные условия:\n",
    "$$\n",
    "\\begin{array}{l}\n",
    "y_i^0 = u_0(x_i), \\; \\forall i = \\overline{0, N},\\\\\n",
    "y_0^k = \\mu_1(t_k), \\\\\n",
    "y_N^k = \\mu_2(t_k), \\; \\forall k > 0.\n",
    "\\end{array}$$"
   ]
  },
  {
   "cell_type": "markdown",
   "metadata": {
    "deletable": false,
    "editable": false,
    "nbgrader": {
     "cell_type": "markdown",
     "checksum": "8faccb77d7c6d95c4f9289ab67e681ea",
     "grade": false,
     "grade_id": "cell-cd0738c4dd71dd54",
     "locked": true,
     "schema_version": 3,
     "solution": false,
     "task": false
    }
   },
   "source": [
    "Запрограммируйте явную разностную схему решения начально-краевой задачи для однородного уравнения теплопроводности. Обратите внимание, что если парметры $q,f$ выходят на некоторую асимптотику по времени, то\n",
    "$$\\exists \\lim\\limits_{t \\rightarrow \\infty} u(x, t) = u_\\infty (x).$$\n",
    "поэтому расчёт в какой-то момент следует остановить (считать до установления).\n",
    "\n",
    "Во время проведения расчетов помните о том, что явная схема *условно* устойчива.\n",
    "\n",
    "    Это задание не сильно отличается от ранних дз на схемы Эйлера..."
   ]
  },
  {
   "cell_type": "code",
   "execution_count": null,
   "metadata": {
    "ExecuteTime": {
     "end_time": "2022-10-16T16:38:12.231871Z",
     "start_time": "2022-10-16T16:38:12.218038Z"
    },
    "deletable": false,
    "nbgrader": {
     "cell_type": "code",
     "checksum": "b93d0d002d7fa9d15e71cfc87cb89037",
     "grade": false,
     "grade_id": "cell-a8cff91eb9385405",
     "locked": false,
     "schema_version": 3,
     "solution": true,
     "task": false
    }
   },
   "outputs": [],
   "source": [
    "def heat_expl(init, bound1, bound2, alpha, lx, q, f, h=1e-2, tau=1e-4, tol=1e-5):\n",
    "    \"\"\" Solve the heat equation `u_t = a*u_xx` for x in (0; lx) with an explicit scheme.\n",
    "    \n",
    "    Parameters\n",
    "    ----------\n",
    "    init : callable\n",
    "       Initial condition - function of x\n",
    "    bound1 : callable\n",
    "       Boundary condition for x = 0 - function of t\n",
    "    bound1 : callable\n",
    "       Boundary condition for x = lx - function of t\n",
    "    alpha : float\n",
    "       Thermal diffusivity   \n",
    "    q: callable\n",
    "        heat emission coef - function of (x,t)\n",
    "    f: callable\n",
    "        heat source - function of (x,t)\n",
    "    h : float\n",
    "       Spatial step\n",
    "    tau : float\n",
    "       Time step\n",
    "    tol : float, optional\n",
    "       Target tolerance.\n",
    "       Stop iterations when the 2-norm of the difference between \n",
    "       solution on this time step and the next is less the tol.\n",
    "       \n",
    "    Returns\n",
    "    -------\n",
    "    t_end : float\n",
    "       End time of calculation\n",
    "    u_end : ndarray, shape (N,)\n",
    "       Limit u_∞(x) (See above)\n",
    "    \"\"\"\n",
    "    \n",
    "    # YOUR CODE HERE\n",
    "    N = int(lx / h)\n",
    "    k = 1\n",
    "    y_k = np.array([init(i * h) for i in range(N + 1)])\n",
    "    y_k1 = np.zeros((N + 1))\n",
    "    \n",
    "    while True or np.linalg.norm(y_k1 - y_k) >= tol :\n",
    "        for i in range(1, N):\n",
    "            y_k1[i] = alpha / h ** 2 * y_k[i - 1] + ((1 / tau - q(i * h, k * tau) - 2 * alpha / h ** 2)* tau * y_k[i] + alpha / h ** 2 * y_k[i + 1] + f(i * h, k * tau))\n",
    "        y_k1[0], y_k1[-1] = bound1(k * tau), bound2(k * tau)\n",
    "        if np.linalg.norm(y_k1 - y_k) < tol:\n",
    "            t_end = k * tau\n",
    "            u_end = y_k1\n",
    "            break\n",
    "        k += 1\n",
    "    y_k = y_k1.copy()\n",
    "    \n",
    "    return t_end, u_end"
   ]
  },
  {
   "cell_type": "markdown",
   "metadata": {
    "deletable": false,
    "editable": false,
    "nbgrader": {
     "cell_type": "markdown",
     "checksum": "161e6cfc6c31256b81150e6aa10e5557",
     "grade": false,
     "grade_id": "cell-6e6f806519c00523",
     "locked": true,
     "schema_version": 3,
     "solution": false,
     "task": false
    }
   },
   "source": [
    "Протестируйте Вашу функцию."
   ]
  },
  {
   "cell_type": "code",
   "execution_count": null,
   "metadata": {
    "ExecuteTime": {
     "end_time": "2022-10-16T16:38:17.165013Z",
     "start_time": "2022-10-16T16:38:14.313742Z"
    },
    "deletable": false,
    "editable": false,
    "nbgrader": {
     "cell_type": "code",
     "checksum": "6f82be5d650690c84cb317c5dd3b413f",
     "grade": true,
     "grade_id": "cell-8e9200a6957eee67",
     "locked": true,
     "points": 4,
     "schema_version": 3,
     "solution": false,
     "task": false
    }
   },
   "outputs": [],
   "source": [
    "from numpy.testing import assert_allclose\n",
    "\n",
    "\n",
    "t_0, u_0 = heat_expl(init=lambda x: 0., bound1=lambda t: 1., bound2=lambda t: 1., \n",
    "                     alpha=1, lx=1, h=0.1, tau=0.005, q=lambda x,t:0, f=lambda x,t:0, tol=1e-3)\n",
    "assert_allclose(u_0, np.ones(11), atol=1e-2)\n",
    "\n",
    "t_1, u_1 = heat_expl(init=lambda x: x**2, bound1=lambda t: 0., bound2=lambda t: 1., \n",
    "                     alpha=1, lx=1, h=0.01, tau=1e-5, q=lambda x,t:-np.pi**2/4, f=lambda x,t: 0, tol=1e-7)\n",
    "\n",
    "\n",
    "x = np.linspace(0, 1, 100+1, endpoint=True)\n",
    "assert_allclose(u_1, np.sin(np.pi/2*x), atol=1e-2)\n"
   ]
  },
  {
   "cell_type": "markdown",
   "metadata": {
    "deletable": false,
    "editable": false,
    "nbgrader": {
     "cell_type": "markdown",
     "checksum": "86a42edefbe209badbc1f5b81dd74abf",
     "grade": false,
     "grade_id": "cell-64305ddcd2371d49",
     "locked": true,
     "schema_version": 3,
     "solution": false,
     "task": false
    }
   },
   "source": [
    "Определите порядки точности схемы (по пространству и времени) на тестовой задаче: \n",
    "$$\n",
    "\\begin{array}{l}\n",
    "\\dfrac{\\partial u}{\\partial t} = \\dfrac{\\partial^2 u}{\\partial x^2} +1, \\; t > 0, \\; x \\in (0, 1), \\\\\n",
    "\\left. u \\right|_{t=0} = 0, \n",
    "\\left. u \\right|_{x=0} = 0, \n",
    "\\left. u \\right|_{x=1} = 0,\\\\\n",
    "u(t\\to+\\infty)= \\frac{x(1-x)}{2}\n",
    "\\end{array}$$\n",
    "\n",
    "\n",
    "Для этого выберите некоторый момент времени $t_c \\in (0, 0.2)$.\n",
    "\n",
    "1. Сделайте несколько расчётов для разных значений пространственного шага (например, $h_0, \\; 2 h_0, \\; 4 h_0 \\; 8h_0..$). \n",
    "Оцените погрешности \"по Коши\" $\\epsilon_h(t_c) = max_{x}(|u_h(t_c) - u_{2h}(t_c)|)$. Постройте график $\\epsilon_h(h)$. Определите порядок схемы.\n",
    "2. Проделате аналогичную процедуру, варьируя шаг по времени $\\tau_0, 2\\tau_0 ..$.\n",
    "3. Обратите внимание, что имеющуюся функцию `heat_expl` надо немного модифицировать. Помните про условную стабильность!\n",
    "3. Найдите отношения этих ошибок. Сопоставьте полученные величины с порядком аппроксимации схемы по данной переменной. "
   ]
  },
  {
   "cell_type": "code",
   "execution_count": 25,
   "metadata": {
    "deletable": false,
    "nbgrader": {
     "cell_type": "code",
     "checksum": "f1b423fdc8b4def4cc94bce1070a31f1",
     "grade": true,
     "grade_id": "cell-b2f692271d252c77",
     "locked": false,
     "points": 3,
     "schema_version": 3,
     "solution": true,
     "task": false
    }
   },
   "outputs": [
    {
     "data": {
      "text/plain": [
       "array([1.        , 0.99969958, 0.99879694, 0.99729264, 0.99518758,\n",
       "       0.99248303, 0.98918061, 0.98528232, 0.98079051, 0.97570788,\n",
       "       0.97003749, 0.96378277, 0.95694747, 0.94953571, 0.94155197,\n",
       "       0.93300105, 0.9238881 , 0.91421862, 0.90399841, 0.89323366,\n",
       "       0.88193083, 0.87009674, 0.85773851, 0.8448636 , 0.83147975,\n",
       "       0.81759503, 0.8032178 , 0.78835673, 0.77302077, 0.75721914,\n",
       "       0.74096139, 0.72425728, 0.7071169 , 0.68955057, 0.67156885,\n",
       "       0.6531826 , 0.63440288, 0.61524101, 0.59570853, 0.5758172 ,\n",
       "       0.55557901, 0.53500616, 0.51411102, 0.49290619, 0.47140445,\n",
       "       0.44961874, 0.42756218, 0.40524808, 0.38268986, 0.35990111,\n",
       "       0.33689557, 0.31368708, 0.29028964, 0.26671734, 0.24298437,\n",
       "       0.21910503, 0.1950937 , 0.17096486, 0.14673303, 0.12241281,\n",
       "       0.09801885, 0.07356585, 0.04906853, 0.02454166, 0.        ])"
      ]
     },
     "execution_count": 25,
     "metadata": {},
     "output_type": "execute_result"
    }
   ],
   "source": [
    "# YOUR CODE HERE\n"
   ]
  },
  {
   "cell_type": "markdown",
   "metadata": {
    "deletable": false,
    "editable": false,
    "nbgrader": {
     "cell_type": "markdown",
     "checksum": "8aac32c024fdbf43b2175dab8b2a6c25",
     "grade": false,
     "grade_id": "cell-97d157c30f1f3363",
     "locked": true,
     "schema_version": 3,
     "solution": false,
     "task": false
    }
   },
   "source": [
    "## Неявная схема "
   ]
  },
  {
   "cell_type": "markdown",
   "metadata": {
    "deletable": false,
    "editable": false,
    "nbgrader": {
     "cell_type": "markdown",
     "checksum": "c3a9ba74776a7a0e3cb24524bc1a762f",
     "grade": false,
     "grade_id": "cell-1e7f779d58e95cd8",
     "locked": true,
     "schema_version": 3,
     "solution": false,
     "task": false
    }
   },
   "source": [
    "Запишем разностное уравнение неявной схемы:\n",
    "$$\\dfrac{y_i^{k+1} - y_i^{k}}{\\tau} = \\alpha \\dfrac{y_{i+1}^{k+1} - 2 y_i^{k+1} + y_{i-1}^{k+1}}{h^2} - q_i^{k+1}y_i^{k+1}+ f_i^{k+1}.$$\n",
    "\n",
    "Аппроксимировать начальное и граничные условия будем так же, как в случае явной схемы."
   ]
  },
  {
   "cell_type": "markdown",
   "metadata": {
    "deletable": false,
    "editable": false,
    "nbgrader": {
     "cell_type": "markdown",
     "checksum": "d508d83c09b58675efbf466649759bc8",
     "grade": false,
     "grade_id": "cell-212525deebf0e803",
     "locked": true,
     "schema_version": 3,
     "solution": false,
     "task": false
    }
   },
   "source": [
    "Запрограммируйте явную разностную схему решения начально-краевой задачи для однородного уравнения теплопроводности.\n",
    "\n",
    "Для решения системы линейных уравнений можно использовать встроенные функции `scipy`...\n",
    "\n",
    "    Полезно вспонить код из 1 задания..."
   ]
  },
  {
   "cell_type": "code",
   "execution_count": null,
   "metadata": {
    "ExecuteTime": {
     "end_time": "2022-10-16T16:46:48.109903Z",
     "start_time": "2022-10-16T16:46:48.096624Z"
    },
    "deletable": false,
    "nbgrader": {
     "cell_type": "code",
     "checksum": "d3a69a36f9c098adbe22b50973b46b71",
     "grade": false,
     "grade_id": "cell-748ac47f86cabee5",
     "locked": false,
     "schema_version": 3,
     "solution": true,
     "task": false
    }
   },
   "outputs": [],
   "source": [
    "def heat_impl(init, bound1, bound2, alpha, lx, q, f, h=1e-2, tau=1e-4, tol=1e-5):\n",
    "    \"\"\" Solve the heat equation `u_t = a*u_xx` for x in (0; lx) with  implicit scheme.\n",
    "    \n",
    "    Parameters\n",
    "    ----------\n",
    "    init : callable\n",
    "       Initial condition - function of x\n",
    "    bound1 : callable\n",
    "       Boundary condition for x = 0 - function of t\n",
    "    bound1 : callable\n",
    "       Boundary condition for x = lx - function of t\n",
    "    alpha : float\n",
    "       Thermal diffusivity   \n",
    "    q: callable\n",
    "        heat emission coef - function of (x,t)\n",
    "    f: callable\n",
    "        heat source - function of (x,t)\n",
    "    h : float\n",
    "       Spatial step\n",
    "    tau : float\n",
    "       Time step\n",
    "    tol : float, optional\n",
    "       Target tolerance.\n",
    "       Stop iterations when the 2-norm of the difference between \n",
    "       solution on this time step and the next is less the tol.\n",
    "       \n",
    "    Returns\n",
    "    -------\n",
    "    t_end : float\n",
    "       End time of calculation\n",
    "    u_end : ndarray, shape (N,)\n",
    "       Limit u_∞(x) (See above)\n",
    "    \"\"\"\n",
    "    \n",
    "    # YOUR CODE HERE\n",
    "    raise NotImplementedError()\n",
    "        \n",
    "    return t_end, u_end"
   ]
  },
  {
   "cell_type": "markdown",
   "metadata": {
    "deletable": false,
    "editable": false,
    "nbgrader": {
     "cell_type": "markdown",
     "checksum": "9e6f300ac1aa0b9646c4ebf3a4cc0e76",
     "grade": false,
     "grade_id": "cell-8e4565c92424287b",
     "locked": true,
     "schema_version": 3,
     "solution": false,
     "task": false
    }
   },
   "source": [
    "Протестируйте Вашу функцию."
   ]
  },
  {
   "cell_type": "code",
   "execution_count": null,
   "metadata": {
    "ExecuteTime": {
     "end_time": "2022-10-16T16:49:14.872801Z",
     "start_time": "2022-10-16T16:49:05.463307Z"
    },
    "deletable": false,
    "editable": false,
    "nbgrader": {
     "cell_type": "code",
     "checksum": "b6ee9c7ab0117579b78cc90d6d749132",
     "grade": true,
     "grade_id": "cell-16e965581409e810",
     "locked": true,
     "points": 3,
     "schema_version": 3,
     "solution": false,
     "task": false
    }
   },
   "outputs": [],
   "source": [
    "from numpy.testing import assert_allclose\n",
    "\n",
    "\n",
    "t_0,u_0 = heat_impl(init=lambda x: 0., bound1=lambda t: 1., bound2=lambda t: 1., \n",
    "                     alpha=1, lx=1, h=0.1, tau=0.005, q=lambda x,t:0.*x, f=lambda x,t:0.*x, tol=1e-3)\n",
    "assert_allclose(u_0, np.ones(11), atol=1e-2)\n",
    "\n",
    "t_1, u_1 = heat_impl(init=lambda x: x**2, bound1=lambda t: 0., bound2=lambda t: 1., \n",
    "                     alpha=1, lx=1, h=0.01, tau=1e-5, q=lambda x,t:-np.pi**2/4 + 0.*x, f=lambda x,t: 0.*x, tol=1e-7)\n",
    "\n",
    "\n",
    "x = np.linspace(0, 1, 100+1, endpoint=True)\n",
    "assert_allclose(u_1, np.sin(np.pi/2*x), atol=1e-2)\n"
   ]
  },
  {
   "cell_type": "markdown",
   "metadata": {
    "deletable": false,
    "editable": false,
    "nbgrader": {
     "cell_type": "markdown",
     "checksum": "bef22eb666a7ecc706c8502df6f89d6b",
     "grade": false,
     "grade_id": "cell-297c88b8089be9f3",
     "locked": true,
     "schema_version": 3,
     "solution": false,
     "task": false
    }
   },
   "source": [
    "Определите порядки точности схемы (по пространству и времени) на тестовой задаче. (см. выше)"
   ]
  },
  {
   "cell_type": "code",
   "execution_count": 7,
   "metadata": {
    "deletable": false,
    "nbgrader": {
     "cell_type": "code",
     "checksum": "24a7754251b8e40467822b521b6a91ee",
     "grade": true,
     "grade_id": "cell-5b009aaeabaa68e7",
     "locked": false,
     "points": 4,
     "schema_version": 3,
     "solution": true,
     "task": false
    }
   },
   "outputs": [
    {
     "ename": "IndentationError",
     "evalue": "unexpected indent (2182073143.py, line 3)",
     "output_type": "error",
     "traceback": [
      "\u001b[1;36m  Input \u001b[1;32mIn [7]\u001b[1;36m\u001b[0m\n\u001b[1;33m    C[0] = 0\u001b[0m\n\u001b[1;37m    ^\u001b[0m\n\u001b[1;31mIndentationError\u001b[0m\u001b[1;31m:\u001b[0m unexpected indent\n"
     ]
    }
   ],
   "source": [
    "# YOUR CODE HERE\n"
   ]
  },
  {
   "cell_type": "code",
   "execution_count": null,
   "metadata": {},
   "outputs": [],
   "source": []
  }
 ],
 "metadata": {
  "kernelspec": {
   "display_name": "Python 3 (ipykernel)",
   "language": "python",
   "name": "python3"
  },
  "language_info": {
   "codemirror_mode": {
    "name": "ipython",
    "version": 3
   },
   "file_extension": ".py",
   "mimetype": "text/x-python",
   "name": "python",
   "nbconvert_exporter": "python",
   "pygments_lexer": "ipython3",
   "version": "3.9.12"
  },
  "latex_envs": {
   "LaTeX_envs_menu_present": true,
   "autoclose": true,
   "autocomplete": false,
   "bibliofile": "biblio.bib",
   "cite_by": "apalike",
   "current_citInitial": 1,
   "eqLabelWithNumbers": true,
   "eqNumInitial": 1,
   "hotkeys": {
    "equation": "Ctrl-E",
    "itemize": "Ctrl-I"
   },
   "labels_anchors": false,
   "latex_user_defs": false,
   "report_style_numbering": false,
   "user_envs_cfg": false
  },
  "toc": {
   "base_numbering": 1,
   "nav_menu": {},
   "number_sections": true,
   "sideBar": true,
   "skip_h1_title": false,
   "title_cell": "Table of Contents",
   "title_sidebar": "Contents",
   "toc_cell": false,
   "toc_position": {},
   "toc_section_display": true,
   "toc_window_display": false
  }
 },
 "nbformat": 4,
 "nbformat_minor": 2
}
